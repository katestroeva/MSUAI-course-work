{
  "cells": [
    {
      "cell_type": "markdown",
      "id": "e675687a-bf7b-4e7d-abd9-850fccd37f8b",
      "metadata": {
        "id": "e675687a-bf7b-4e7d-abd9-850fccd37f8b"
      },
      "source": [
        "# Общие замечания:\n",
        "\n",
        "Во время проведения экспериментов по дообучению нейронных сетей, было выявлено, что связка <<обучение на metlin_8_25 - дообучение на hilic - тестирование на hilic_oxana>> показывает точность MAE на 2 меньше, чем  <<обучение на metlin_8_25 - дообучение на metlin_0_8 - тестирование на hilic_oxana>> (3 и 5 соответственно).\n",
        "\n",
        "При сравнении наборов данных hilic и metlin были выявлены следующие различия:\n",
        "- количество уникальных символов отличается\n",
        "    - METLIN: 36\n",
        "['#', '(', ')', '+', '-', '/', '1', '2', '3', '4', '5', '6', '7', '8', '9', '=', '@', 'B', 'C', 'F', 'H', 'I', 'N', 'O', 'P', 'S', '[', '\\\\', ']', 'c', 'i', 'l', 'n', 'o', 'r', 's']\n",
        "    - HILIC: 29\n",
        "['#', '(', ')', '+', '-', '1', '2', '3', '4', '5', '6', '7', '8', '9', '=', 'B', 'C', 'F', 'H', 'I', 'N', 'O', 'P', 'S', '[', ']', 'i', 'l', 'r']\n",
        "\n",
        "- количество знаков после запятой в hilic до 6 знаков, в metlin - до 16 знаков\n",
        "\n",
        "- элементы, состоящие из двух букв, которые встречаются в metlin {'Br', 'Cl', 'Si', 'No', 'Co', 'Cs'}, в hilic {'Br', 'Cl', 'Si'}"
      ]
    },
    {
      "cell_type": "markdown",
      "source": [
        "# Экперимент 1: замена строчных букв c и n на прописные C и N."
      ],
      "metadata": {
        "id": "kjulxpmf8hsm"
      },
      "id": "kjulxpmf8hsm"
    },
    {
      "cell_type": "code",
      "source": [
        "metlin_0_8['smiles'] = metlin_0_8['smiles'].str.replace('c', 'C')\n",
        "metlin_0_8['smiles'] = metlin_0_8['smiles'].str.replace('n', 'N')"
      ],
      "metadata": {
        "id": "iRPs0GS_eV4F"
      },
      "id": "iRPs0GS_eV4F",
      "execution_count": null,
      "outputs": []
    },
    {
      "cell_type": "code",
      "source": [
        "metlin_8_25['smiles'] = metlin_8_25['smiles'].str.replace('c', 'C')\n",
        "metlin_8_25['smiles'] = metlin_8_25['smiles'].str.replace('n', 'N')"
      ],
      "metadata": {
        "id": "WAZIoLRGggKO"
      },
      "id": "WAZIoLRGggKO",
      "execution_count": null,
      "outputs": []
    },
    {
      "cell_type": "code",
      "source": [
        "metlin['smiles'] = metlin['smiles'].str.replace('c', 'C')\n",
        "metlin['smiles'] = metlin['smiles'].str.replace('n', 'N')"
      ],
      "metadata": {
        "id": "OJnnNVDlglcI"
      },
      "id": "OJnnNVDlglcI",
      "execution_count": null,
      "outputs": []
    },
    {
      "cell_type": "markdown",
      "source": [
        "# Экперимент 2:\n",
        "\n",
        "сокращение количества знаков после запятой для значений времени удерживания в обоих наборах данных до 4."
      ],
      "metadata": {
        "id": "4yr3GYWBBXUh"
      },
      "id": "4yr3GYWBBXUh"
    },
    {
      "cell_type": "code",
      "source": [
        "s = []\n",
        "for i in metlin_8_25['rt']:\n",
        "    s.append(len(str(i)))\n",
        "print('Lengts of RT in metlin_8_25: ', set(s))"
      ],
      "metadata": {
        "colab": {
          "base_uri": "https://localhost:8080/"
        },
        "outputId": "9edef8b5-b081-4781-c46e-678a5b464f54",
        "id": "oM0jM_DWCn1P"
      },
      "execution_count": null,
      "outputs": [
        {
          "output_type": "stream",
          "name": "stdout",
          "text": [
            "Lengts of RT in metlin_8_25:  {3, 4, 5, 6, 17, 18}\n"
          ]
        }
      ],
      "id": "oM0jM_DWCn1P"
    },
    {
      "cell_type": "code",
      "source": [
        "s = []\n",
        "for i in metlin_0_8['rt']:\n",
        "    s.append(len(str(i)))\n",
        "print('Lengts of RT in metlin_0_8: ', set(s))"
      ],
      "metadata": {
        "colab": {
          "base_uri": "https://localhost:8080/"
        },
        "outputId": "49e66903-989c-44ef-fc36-afa22a72d47b",
        "id": "hoENo75mCn1Q"
      },
      "execution_count": null,
      "outputs": [
        {
          "output_type": "stream",
          "name": "stdout",
          "text": [
            "Lengts of RT in metlin_0_8:  {3, 4, 5, 17, 18}\n"
          ]
        }
      ],
      "id": "hoENo75mCn1Q"
    },
    {
      "cell_type": "code",
      "source": [
        "s = []\n",
        "for i in hilic['rt']:\n",
        "    s.append(len(str(i)))\n",
        "print('Lengts of RT in hilic: ', set(s))"
      ],
      "metadata": {
        "colab": {
          "base_uri": "https://localhost:8080/"
        },
        "outputId": "027916e4-9a14-4c61-a7fa-0262e34b65e5",
        "id": "0Q8kFLazCn1R"
      },
      "execution_count": null,
      "outputs": [
        {
          "output_type": "stream",
          "name": "stdout",
          "text": [
            "Lengts of RT in hilic:  {4, 5, 6, 7, 8, 9}\n"
          ]
        }
      ],
      "id": "0Q8kFLazCn1R"
    },
    {
      "cell_type": "code",
      "source": [
        "metlin_0_8.loc[:, 'rt'] = metlin_0_8['rt'].apply(lambda x: float('{:.4f}'.format(x)))\n",
        "metlin_8_25.loc[:, 'rt'] = metlin_8_25['rt'].apply(lambda x: float('{:.4f}'.format(x)))\n",
        "hilic.loc[:, 'rt'] = hilic['rt'].apply(lambda x: float('{:.4f}'.format(x)))"
      ],
      "metadata": {
        "id": "qEYCuovfCrNg"
      },
      "id": "qEYCuovfCrNg",
      "execution_count": null,
      "outputs": []
    },
    {
      "cell_type": "markdown",
      "source": [
        "# Экперимент 3:\n",
        "\n",
        "замена названий элементов, состоящих из 2 букв на символы {'Br': '*', 'Cl': '&', 'Si': '%', 'Sc': '!', 'Cn': '?'}"
      ],
      "metadata": {
        "id": "kwuXGV8Gh2LS"
      },
      "id": "kwuXGV8Gh2LS"
    },
    {
      "cell_type": "code",
      "source": [
        "elements_symbols = [\n",
        "    \"H\", \"He\", \"Li\", \"Be\", \"B\", \"C\",\n",
        "    \"N\", \"O\", \"F\", \"Ne\", \"Na\", \"Mg\",\n",
        "    \"Al\", \"Si\", \"P\", \"S\", \"Cl\", \"Ar\",\n",
        "    \"K\", \"Ca\", \"Sc\", \"Ti\", \"V\", \"Cr\",\n",
        "    \"Mn\", \"Fe\", \"Co\", \"Ni\", \"Cu\", \"Zn\",\n",
        "    \"Ga\", \"Ge\", \"As\", \"Se\", \"Br\", \"Kr\",\n",
        "    \"Rb\", \"Sr\", \"Y\", \"Zr\", \"Nb\", \"Mo\",\n",
        "    \"Tc\", \"Ru\", \"Rh\", \"Pd\", \"Ag\", \"Cd\",\n",
        "    \"In\", \"Sn\", \"Sb\", \"Te\", \"I\", \"Xe\",\n",
        "    \"Cs\", \"Ba\", \"La\", \"Ce\", \"Pr\", \"Nd\",\n",
        "    \"Pm\", \"Sm\", \"Eu\", \"Gd\", \"Tb\", \"Dy\",\n",
        "    \"Ho\", \"Er\", \"Tm\", \"Yb\", \"Lu\", \"Hf\",\n",
        "    \"Ta\", \"W\", \"Re\", \"Os\", \"Ir\", \"Pt\",\n",
        "    \"Au\", \"Hg\", \"Tl\", \"Pb\", \"Bi\", \"Po\",\n",
        "    \"At\", \"Rn\", \"Fr\", \"Ra\", \"Ac\", \"Th\",\n",
        "    \"Pa\", \"U\", \"Np\", \"Pu\", \"Am\", \"Cm\",\n",
        "    \"Bk\", \"Cf\", \"Es\", \"Fm\", \"Md\", \"No\",\n",
        "    \"Lr\", \"Rf\", \"Db\", \"Sg\", \"Bh\", \"Hs\",\n",
        "    \"Mt\", \"Ds\", \"Rg\", \"Cn\", \"Nh\", \"Fl\",\n",
        "    \"Mc\", \"Lv\", \"Ts\", \"Og\"\n",
        "]"
      ],
      "metadata": {
        "id": "nZGOZJi0gsfg"
      },
      "id": "nZGOZJi0gsfg",
      "execution_count": null,
      "outputs": []
    },
    {
      "cell_type": "code",
      "source": [
        "res = []\n",
        "for i in metlin['smiles']:\n",
        "    for j in elements_symbols:\n",
        "      if j in str(i) and len(j) == 2:\n",
        "          res.append(j)\n",
        "print(set(res))"
      ],
      "metadata": {
        "colab": {
          "base_uri": "https://localhost:8080/"
        },
        "id": "Ys-3EOZUmpBL",
        "outputId": "62a05e1f-3316-49f0-e337-177c7f48b0eb"
      },
      "id": "Ys-3EOZUmpBL",
      "execution_count": null,
      "outputs": [
        {
          "output_type": "stream",
          "name": "stdout",
          "text": [
            "{'Br', 'Cl', 'Si', 'No', 'Co', 'Cs'}\n"
          ]
        }
      ]
    },
    {
      "cell_type": "code",
      "source": [
        "res = []\n",
        "for i in hilic['smiles']:\n",
        "    for j in elements_symbols:\n",
        "      if j in str(i) and len(j) == 2:\n",
        "          res.append(j)\n",
        "print(set(res))"
      ],
      "metadata": {
        "colab": {
          "base_uri": "https://localhost:8080/"
        },
        "id": "Ji-Z-5W5nWke",
        "outputId": "c94f7e2e-7cfa-41ef-eb4f-0a5f00f08af1"
      },
      "id": "Ji-Z-5W5nWke",
      "execution_count": null,
      "outputs": [
        {
          "output_type": "stream",
          "name": "stdout",
          "text": [
            "{'Br', 'Cl', 'Si'}\n"
          ]
        }
      ]
    },
    {
      "cell_type": "code",
      "source": [
        "replacements = {'Br': '*', 'Cl': '&', 'Si': '%', 'Sc': '!', 'Cn': '?'}\n",
        "\n",
        "def replace_symbols(smiles):\n",
        "    for old, new in replacements.items():\n",
        "        smiles = smiles.replace(old, new)\n",
        "    return smiles\n",
        "\n",
        "metlin_0_8['smiles'] = metlin_0_8['smiles'].apply(replace_symbols)\n",
        "metlin_8_25['smiles'] = metlin_8_25['smiles'].apply(replace_symbols)\n",
        "hilic['smiles'] = hilic['smiles'].apply(replace_symbols)\n",
        "metlin['smiles'] = metlin['smiles'].apply(replace_symbols)"
      ],
      "metadata": {
        "id": "7EXinGnqnzB_"
      },
      "execution_count": null,
      "outputs": [],
      "id": "7EXinGnqnzB_"
    },
    {
      "cell_type": "markdown",
      "source": [
        "Из-за сокращения длины всех строк smiles на 1 символ, необходимо снова выравнивать длину каждой строки до 185 символов."
      ],
      "metadata": {
        "id": "ao2GOcBFCE1x"
      },
      "id": "ao2GOcBFCE1x"
    },
    {
      "cell_type": "code",
      "source": [
        "maxlen = 185\n",
        "\n",
        "for i in range(79957):\n",
        "    if len(metlin['smiles'].values[i]) < maxlen:\n",
        "        metlin['smiles'].values[i] = metlin['smiles'].values[i].ljust(maxlen)\n",
        "\n",
        "for i in range(2068):\n",
        "    if len(metlin_0_8['smiles'].values[i]) < maxlen:\n",
        "        metlin_0_8['smiles'].values[i] = metlin_0_8['smiles'].values[i].ljust(maxlen)\n",
        "\n",
        "for i in range(77889):\n",
        "    if len(metlin_8_25['smiles'].values[i]) < maxlen:\n",
        "        metlin_8_25['smiles'].values[i] = metlin_8_25['smiles'].values[i].ljust(maxlen)\n",
        "\n",
        "for i in range(880):\n",
        "    if len(hilic['smiles'].values[i]) < maxlen:\n",
        "        hilic['smiles'].values[i] = hilic['smiles'].values[i].ljust(maxlen)"
      ],
      "metadata": {
        "id": "QU9mE5y5ZRaH"
      },
      "id": "QU9mE5y5ZRaH",
      "execution_count": null,
      "outputs": []
    }
  ],
  "metadata": {
    "colab": {
      "provenance": [],
      "gpuType": "T4"
    },
    "kernelspec": {
      "display_name": "Python 3",
      "name": "python3"
    },
    "language_info": {
      "codemirror_mode": {
        "name": "ipython",
        "version": 3
      },
      "file_extension": ".py",
      "mimetype": "text/x-python",
      "name": "python",
      "nbconvert_exporter": "python",
      "pygments_lexer": "ipython3",
      "version": "3.11.4"
    },
    "accelerator": "GPU"
  },
  "nbformat": 4,
  "nbformat_minor": 5
}